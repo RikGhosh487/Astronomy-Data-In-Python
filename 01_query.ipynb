{
 "cells": [
  {
   "cell_type": "markdown",
   "metadata": {},
   "source": [
    "# 1. Queries\n",
    "This is the first in a series of lessons about working with astronomical data.\n",
    "\n",
    "As a running example, we will replicate parts of the analysis in a recent paper, \"[Off the beaten path: Gaia reveals GD-1 stars outside of the main stream](https://arxiv.org/abs/1805.00425)\" by Adrian Price-Whelan and Ana Bonaca."
   ]
  },
  {
   "cell_type": "markdown",
   "metadata": {},
   "source": [
    "## Outline\n",
    "This lesson demonstrates the steps for selecting and downloading data from the Gaia Database:\n",
    "1. First we'll make a connection to the Gaia server,\n",
    "2. We will explore information about the database and the tables it contains,\n",
    "3. We will write a query and send it to the server, and finally\n",
    "4. We will download the response from the server."
   ]
  },
  {
   "cell_type": "markdown",
   "metadata": {},
   "source": [
    "## Query Language\n",
    "In order to select data from a database, you have to compose a query, which is a program written in a \"query language\". The query language we'll use is ADQL, which stands for \"Astronomical Data Query Language\".\n",
    "\n",
    "ADQL is a dialect of [SQL](https://en.wikipedia.org/wiki/SQL)(Structured Query Language), which is by far the most commonly used query language. Almost everything you will learn about ADQL also works in SQL.\n",
    "\n",
    "[The reference manual for ADQL is here](https://www.ivoa.net/documents/ADQL/20180112/PR-ADQL-2.1-20180112.html). But you might find it easier to learn from [this ADQL Cookbook](https://www.gaia.ac.uk/data/gaia-data-release-1/adql-cookbook)."
   ]
  },
  {
   "cell_type": "markdown",
   "metadata": {},
   "source": [
    "## Using Jupyter\n",
    "If you have not worked with Jupyter notebooks before, you might start with [the tutorial on Jupyter.org called \"Try Classic Notebook\"](https://jupyter.org/try), or [this tutorial from DataQuest](https://www.dataquest.io/blog/jupyter-notebook-tutorial/).\n",
    "\n",
    "There are two environments you can use to write and run notebooks:\n",
    "* \"Jupyter Notebook\" is the original, and\n",
    "* \"Jupyter Lab\" is a newer environment with more features.\n",
    "For these lessons, you can use either one\n",
    "\n",
    "If you are too impatient for the tutorials, here are the most important things to know:\n",
    "1. Notebook are made up of code cells and text cells (and a few other less common kinds). Code cells contain code; text cells, like this one, contain explanatory text written in [Markdown](https://www.markdownguide.org/).\n",
    "2. To run a code cell, click the cell to select it and press `Shift + Enter`. The output of the code should appear below the cell.\n",
    "3. In general, notebooks only run correctly if you run every code cell in order from top to bottom. If you run cells out of order, you are likely to get errors.\n",
    "4. You can modify existing cells, but then you have to run them again to see the effect.\n",
    "5. You can add new cells, but again, you have to be careful about the order you run them in.\n",
    "6. If you added or modified cells and the behavior of the notebook seems strange, you can restart the \"kernel\", which clears all of the variables and functions you have defined, and run the cells again from the beginning.\n",
    "\n",
    "* If you are using Jupyter notebook, open the `Kernel` menu and select \"Restart and Run All\".\n",
    "* In Jupyter Lab, open the `Kernel` menu and select \"Restart Kernel and Run All Cells\".\n",
    "* In Colab, open the `Runtime` menu and select \"Restart and run all\".\n",
    "\n",
    "Before you go on, you might want to explore the other menus and the toolbar to see what else can you do."
   ]
  },
  {
   "cell_type": "markdown",
   "metadata": {},
   "source": [
    "## Installing Libraries\n",
    "If you are running this notebook on Colab, you should run the following cell to install the libraries we'll need.\n",
    "\n",
    "If you are running this notebook on your own computer, you might have to install these libraries yourself."
   ]
  },
  {
   "cell_type": "code",
   "execution_count": null,
   "metadata": {},
   "outputs": [],
   "source": [
    "# If we're running on Colab, install libraries\n",
    "import sys\n",
    "\n",
    "IN_COLAB = 'google.colab' in sys.modules\n",
    "\n",
    "if IN_COLAB:\n",
    "    %pip install astroquery"
   ]
  },
  {
   "cell_type": "markdown",
   "metadata": {},
   "source": [
    "## Connecting to Gaia\n",
    "The library we'll use to get Gaia data is [Astroquery](https://astroquery.readthedocs.io/en/latest/). Astroquery provides `Gaia`, which is an [object that represents a connection to the Gaia database](https://astroquery.readthedocs.io/en/latest/gaia/gaia.html).\n",
    "\n",
    "We can connect to Gaia database like this:"
   ]
  },
  {
   "cell_type": "code",
   "execution_count": null,
   "metadata": {},
   "outputs": [],
   "source": [
    "from astroquery.gaia import Gaia"
   ]
  },
  {
   "cell_type": "markdown",
   "metadata": {},
   "source": [
    "This import statement creates a [TAP+](http://www.ivoa.net/documents/TAP/) connection; TAP stands for \"Table Access Protocol\", which is a network protocol for sending queries to the database and getting back the results."
   ]
  },
  {
   "cell_type": "markdown",
   "metadata": {},
   "source": [
    "## Databases and Tables\n",
    "What is a database, anyway? Most generally, it can be any collection of data, but when we are talking about ADQL or SQL:\n",
    "* A database is a collection of one or more named tables.\n",
    "* Each table is a 2-D array with one or more named columns of data.\n",
    "\n",
    "We can use `Gaia.load_tables` to get the names of the tables in the Gaia database. With the option `only_names=True`, it loads information about the tables, called \"metadata\", not the data itself."
   ]
  },
  {
   "cell_type": "code",
   "execution_count": null,
   "metadata": {},
   "outputs": [],
   "source": [
    "tables = Gaia.load_tables(only_names=True)"
   ]
  },
  {
   "cell_type": "markdown",
   "metadata": {},
   "source": [
    "The following `for` loop prints the names of the tables."
   ]
  },
  {
   "cell_type": "code",
   "execution_count": null,
   "metadata": {},
   "outputs": [],
   "source": [
    "for table in tables:\n",
    "    print(table.name)"
   ]
  },
  {
   "cell_type": "markdown",
   "metadata": {},
   "source": [
    "So that's a lot of tables. The ones we'll use are:\n",
    "* `gaiadr2.gaia_source`, which contains Gaia data from [data release 2](https://www.cosmos.esa.int/web/gaia/data-release-2)\n",
    "* `gaiadr2.panstarrs1_original_valid`, which contains the photometry data we'll use from PanSTARRS, and\n",
    "* `gaiadr2.panstarrs1_best_neighbour`, which we'll use to cross-match each star observed by Gaia with the same star observed by PanSTARRS.\n",
    "\n",
    "We can use `load_table` (not `load_tables`) to get the metadata for a single table. The name of this function is misleading, because it only downloads metadata, not the contents of the table."
   ]
  },
  {
   "cell_type": "code",
   "execution_count": null,
   "metadata": {},
   "outputs": [],
   "source": [
    "meta = Gaia.load_table('gaiadr2.gaia_source')\n",
    "meta"
   ]
  },
  {
   "cell_type": "markdown",
   "metadata": {},
   "source": [
    "Jupyter shows that the result is an object of type `TapTableMeta`, but it does not display the contents.\n",
    "\n",
    "To see the metadata, we have to print the object"
   ]
  },
  {
   "cell_type": "code",
   "execution_count": null,
   "metadata": {},
   "outputs": [],
   "source": [
    "print(meta)"
   ]
  },
  {
   "cell_type": "markdown",
   "metadata": {},
   "source": [
    "## Columns\n",
    "The following loop prints the names of the columns in the table."
   ]
  },
  {
   "cell_type": "code",
   "execution_count": null,
   "metadata": {},
   "outputs": [],
   "source": [
    "for column in meta.columns:\n",
    "    print(column.name)"
   ]
  },
  {
   "cell_type": "markdown",
   "metadata": {},
   "source": [
    "You can probably infer what many of these columns are by looking at their names, but you should resist the temptation to guess. To find out what the columns mean, [read the documentation](https://gea.esac.esa.int/archive/documentation/GDR2/Gaia_archive/chap_datamodel/sec_dm_main_tables/ssec_dm_gaia_source.html).\n",
    "\n",
    "If you want to know what can go wrong when you don't read the documentation, [you might like this article](https://www.vox.com/future-perfect/2019/6/4/18650969/married-women-miserable-fake-paul-dolan-happiness)."
   ]
  },
  {
   "cell_type": "markdown",
   "metadata": {},
   "source": [
    "### Exercise\n",
    "One of the other tables we'll use is `gaiadr2.panstarrs1_original_valid`. Use `load_table` to get the metadata for this table. How many columns are there and what are their names?"
   ]
  },
  {
   "cell_type": "code",
   "execution_count": null,
   "metadata": {},
   "outputs": [],
   "source": [
    "# TODO: Implement solution here"
   ]
  },
  {
   "cell_type": "markdown",
   "metadata": {},
   "source": [
    "## Writing queries\n",
    "By now you might be wondering how we download these tables. With tables this big, you generally don't. Instead, you use queries to select only the data you want.\n",
    "\n",
    "A query is a string written in a query language like SQL; for the Gaia database, the query language is a dialect of SQL called ADQL.\n",
    "\n",
    "Here's an example of an ADQL query."
   ]
  },
  {
   "cell_type": "code",
   "execution_count": null,
   "metadata": {},
   "outputs": [],
   "source": [
    "query1 = \\\n",
    "\"\"\"\n",
    "SELECT TOP 10\n",
    "source_id, ra, dec, parallax\n",
    "FROM gaiadr2.gaia_source\n",
    "\"\"\""
   ]
  },
  {
   "cell_type": "markdown",
   "metadata": {},
   "source": [
    "**Python Note**: We use a [triple-quoted string](https://docs.python.org/3/tutorial/introduction.html#strings) here so we can include line breaks in the query, which makes it easier to read.\n",
    "\n",
    "The words in uppercase are ADQL keywords:\n",
    "* `SELECT` indicates that we are selecting data (as opposed to adding or modifying data).\n",
    "* `TOP` indicates that we only want the first 10 rows of the table, which is useful for testing a query before asking for all of the data.\n",
    "* `FROM` specifies which table we want the data from.\n",
    "\n",
    "The third line is a list of column names, indicating which columns we want.\n",
    "\n",
    "In this example, the keywords are capitalized and the column names are lowercase. This is a common style, but it is not required. ADQL and SQL are not case-sensitive.\n",
    "\n",
    "Also, the query is broken into multiple lines to make it more readable. This is a common style, but not required. Line breaks don't affect the behavior of the query.\n",
    "\n",
    "To run this query, we use the `Gaia` object, which represents our connection to the Gaia database, and invoke `launch_job`:\n"
   ]
  },
  {
   "cell_type": "code",
   "execution_count": null,
   "metadata": {},
   "outputs": [],
   "source": [
    "job = Gaia.launch_job(query1)\n",
    "job"
   ]
  },
  {
   "cell_type": "markdown",
   "metadata": {},
   "source": []
  }
 ],
 "metadata": {
  "language_info": {
   "name": "python"
  },
  "orig_nbformat": 4
 },
 "nbformat": 4,
 "nbformat_minor": 2
}
